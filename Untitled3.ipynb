{
  "nbformat": 4,
  "nbformat_minor": 0,
  "metadata": {
    "colab": {
      "provenance": [],
      "authorship_tag": "ABX9TyPUwCR/Yywgn/1Xq8TYQWo+",
      "include_colab_link": true
    },
    "kernelspec": {
      "name": "python3",
      "display_name": "Python 3"
    },
    "language_info": {
      "name": "python"
    }
  },
  "cells": [
    {
      "cell_type": "markdown",
      "metadata": {
        "id": "view-in-github",
        "colab_type": "text"
      },
      "source": [
        "<a href=\"https://colab.research.google.com/github/5234560002ebnida/nonfictioner/blob/main/Untitled3.ipynb\" target=\"_parent\"><img src=\"https://colab.research.google.com/assets/colab-badge.svg\" alt=\"Open In Colab\"/></a>"
      ]
    },
    {
      "cell_type": "code",
      "execution_count": 293,
      "metadata": {
        "id": "RK5btTVjqfBr",
        "colab": {
          "base_uri": "https://localhost:8080/"
        },
        "outputId": "2179b274-d36b-4d30-e646-9a35d53bba96"
      },
      "outputs": [
        {
          "output_type": "stream",
          "name": "stdout",
          "text": [
            "1\n",
            "hello\n"
          ]
        }
      ],
      "source": [
        "# value\n",
        "print(1)\n",
        "print(\"hello\")"
      ]
    },
    {
      "cell_type": "code",
      "source": [
        "# variable\n",
        "# \"variable = value\" -> assigning value to variable\n",
        "vegetable = \"avocado\"\n",
        "vegetable"
      ],
      "metadata": {
        "colab": {
          "base_uri": "https://localhost:8080/",
          "height": 35
        },
        "id": "ILDzL4lCA7vn",
        "outputId": "37593159-4c99-4821-8831-e466af441c4e"
      },
      "execution_count": 294,
      "outputs": [
        {
          "output_type": "execute_result",
          "data": {
            "text/plain": [
              "'avocado'"
            ],
            "application/vnd.google.colaboratory.intrinsic+json": {
              "type": "string"
            }
          },
          "metadata": {},
          "execution_count": 294
        }
      ]
    },
    {
      "cell_type": "code",
      "source": [
        "# variable character 1\n",
        "# variable can change its value\n",
        "vegetable = \"carrot\"\n",
        "vegetable"
      ],
      "metadata": {
        "colab": {
          "base_uri": "https://localhost:8080/",
          "height": 35
        },
        "id": "YtzoI5OLBNX6",
        "outputId": "8bb21ed2-f253-4b74-8e87-95a658d023be"
      },
      "execution_count": 295,
      "outputs": [
        {
          "output_type": "execute_result",
          "data": {
            "text/plain": [
              "'carrot'"
            ],
            "application/vnd.google.colaboratory.intrinsic+json": {
              "type": "string"
            }
          },
          "metadata": {},
          "execution_count": 295
        }
      ]
    },
    {
      "cell_type": "code",
      "source": [
        "# variable character 2\n",
        "# value can be assigned to multiple variables\n",
        "decorate = \"carrot\"\n",
        "print(vegetable)\n",
        "print(decorate)"
      ],
      "metadata": {
        "id": "NmwbPUmGBXeC",
        "colab": {
          "base_uri": "https://localhost:8080/"
        },
        "outputId": "456767b9-1b6e-4066-c863-3fdf2fe43a20"
      },
      "execution_count": 296,
      "outputs": [
        {
          "output_type": "stream",
          "name": "stdout",
          "text": [
            "carrot\n",
            "carrot\n"
          ]
        }
      ]
    },
    {
      "cell_type": "code",
      "source": [
        "# function\n",
        "def make_sandwich(cheese, bread, vegetable):\n",
        "  sandwich = bread + cheese+ vegetable + bread\n",
        "  return sandwich"
      ],
      "metadata": {
        "id": "qH2d4kLOORD5"
      },
      "execution_count": 297,
      "outputs": []
    },
    {
      "cell_type": "code",
      "source": [
        "2+2"
      ],
      "metadata": {
        "colab": {
          "base_uri": "https://localhost:8080/"
        },
        "id": "3YNHaVouO5Eq",
        "outputId": "691ac5f9-d0e1-4393-862b-0a52df0a3a66"
      },
      "execution_count": 298,
      "outputs": [
        {
          "output_type": "execute_result",
          "data": {
            "text/plain": [
              "4"
            ]
          },
          "metadata": {},
          "execution_count": 298
        }
      ]
    },
    {
      "cell_type": "code",
      "source": [
        "2 *10"
      ],
      "metadata": {
        "colab": {
          "base_uri": "https://localhost:8080/"
        },
        "id": "eXdIy241O8bp",
        "outputId": "014f55b4-25a2-44be-8067-93db1f3f1443"
      },
      "execution_count": 299,
      "outputs": [
        {
          "output_type": "execute_result",
          "data": {
            "text/plain": [
              "20"
            ]
          },
          "metadata": {},
          "execution_count": 299
        }
      ]
    },
    {
      "cell_type": "code",
      "source": [
        "2 ** 10"
      ],
      "metadata": {
        "colab": {
          "base_uri": "https://localhost:8080/"
        },
        "id": "9lOXsP7YO_hB",
        "outputId": "89ff95f6-9734-4717-ce9e-e9d1501e3ea7"
      },
      "execution_count": 300,
      "outputs": [
        {
          "output_type": "execute_result",
          "data": {
            "text/plain": [
              "1024"
            ]
          },
          "metadata": {},
          "execution_count": 300
        }
      ]
    },
    {
      "cell_type": "code",
      "source": [
        "10/3"
      ],
      "metadata": {
        "colab": {
          "base_uri": "https://localhost:8080/"
        },
        "id": "1p3sE-JYPPvN",
        "outputId": "b0d8dd95-7d71-4b56-a26f-4c1a9225115c"
      },
      "execution_count": 301,
      "outputs": [
        {
          "output_type": "execute_result",
          "data": {
            "text/plain": [
              "3.3333333333333335"
            ]
          },
          "metadata": {},
          "execution_count": 301
        }
      ]
    },
    {
      "cell_type": "code",
      "source": [
        "20/5"
      ],
      "metadata": {
        "colab": {
          "base_uri": "https://localhost:8080/"
        },
        "id": "bZdkXuS4PRjp",
        "outputId": "e0f5e821-58d9-4df4-d9eb-bfd704f3aef5"
      },
      "execution_count": 302,
      "outputs": [
        {
          "output_type": "execute_result",
          "data": {
            "text/plain": [
              "4.0"
            ]
          },
          "metadata": {},
          "execution_count": 302
        }
      ]
    },
    {
      "cell_type": "code",
      "source": [
        "10//3"
      ],
      "metadata": {
        "colab": {
          "base_uri": "https://localhost:8080/"
        },
        "id": "2TPVxc8OPU9L",
        "outputId": "e3b7ddb2-fbba-4432-c0a3-81b74d2ee520"
      },
      "execution_count": 303,
      "outputs": [
        {
          "output_type": "execute_result",
          "data": {
            "text/plain": [
              "3"
            ]
          },
          "metadata": {},
          "execution_count": 303
        }
      ]
    },
    {
      "cell_type": "code",
      "source": [
        "#quotation ('  ') (\"  \")(\"\"\" \"\"\")\n",
        "\"Jin\""
      ],
      "metadata": {
        "colab": {
          "base_uri": "https://localhost:8080/",
          "height": 35
        },
        "id": "Q7ONMjNkS5h2",
        "outputId": "c6a12f97-ec9a-4647-ef0e-e45a77286826"
      },
      "execution_count": 304,
      "outputs": [
        {
          "output_type": "execute_result",
          "data": {
            "text/plain": [
              "'Jin'"
            ],
            "application/vnd.google.colaboratory.intrinsic+json": {
              "type": "string"
            }
          },
          "metadata": {},
          "execution_count": 304
        }
      ]
    },
    {
      "cell_type": "code",
      "source": [
        "print(\"Subscribe \" + \"Jin Box\" +\"!\")"
      ],
      "metadata": {
        "colab": {
          "base_uri": "https://localhost:8080/"
        },
        "id": "RLFAd0tZTYUz",
        "outputId": "d0f15ba1-9282-4672-9987-3249c87d365b"
      },
      "execution_count": 305,
      "outputs": [
        {
          "output_type": "stream",
          "name": "stdout",
          "text": [
            "Subscribe Jin Box!\n"
          ]
        }
      ]
    },
    {
      "cell_type": "code",
      "source": [
        "name = \"Jin\"\n",
        "type(name)\n"
      ],
      "metadata": {
        "colab": {
          "base_uri": "https://localhost:8080/"
        },
        "id": "fR2__gAKTpNt",
        "outputId": "e8386e98-f389-4714-d4b4-fd3b017e8ecc"
      },
      "execution_count": 306,
      "outputs": [
        {
          "output_type": "execute_result",
          "data": {
            "text/plain": [
              "str"
            ]
          },
          "metadata": {},
          "execution_count": 306
        }
      ]
    },
    {
      "cell_type": "code",
      "source": [
        "len(name)"
      ],
      "metadata": {
        "colab": {
          "base_uri": "https://localhost:8080/"
        },
        "id": "lx1Z4AhYUOgA",
        "outputId": "e67d9da3-5ddf-4680-d12a-b294dc81552e"
      },
      "execution_count": 307,
      "outputs": [
        {
          "output_type": "execute_result",
          "data": {
            "text/plain": [
              "3"
            ]
          },
          "metadata": {},
          "execution_count": 307
        }
      ]
    },
    {
      "cell_type": "code",
      "source": [
        "print(name[0])\n",
        "print(name[1])\n",
        "print(name[2])\n",
        "print(name[-1])"
      ],
      "metadata": {
        "colab": {
          "base_uri": "https://localhost:8080/"
        },
        "id": "4MDdRhLNUSGA",
        "outputId": "73e4e29a-371d-41f4-e58a-bf013e4e103d"
      },
      "execution_count": 308,
      "outputs": [
        {
          "output_type": "stream",
          "name": "stdout",
          "text": [
            "J\n",
            "i\n",
            "n\n",
            "n\n"
          ]
        }
      ]
    },
    {
      "cell_type": "code",
      "source": [
        "print(name[0:1])\n",
        "print(name[0:2])\n",
        "print(name[0:3])\n",
        "print(name[:])\n",
        "print(name[1:])\n",
        "print(name[:2])"
      ],
      "metadata": {
        "colab": {
          "base_uri": "https://localhost:8080/"
        },
        "id": "BHXBg5FMUm8o",
        "outputId": "bb534098-49c5-4c85-8180-6931c3fef773"
      },
      "execution_count": 309,
      "outputs": [
        {
          "output_type": "stream",
          "name": "stdout",
          "text": [
            "J\n",
            "Ji\n",
            "Jin\n",
            "Jin\n",
            "in\n",
            "Ji\n"
          ]
        }
      ]
    },
    {
      "cell_type": "code",
      "source": [
        "1 == 2"
      ],
      "metadata": {
        "colab": {
          "base_uri": "https://localhost:8080/"
        },
        "id": "1p8PkLOza0C3",
        "outputId": "24a06624-77b2-4776-e1db-5dd56abbef5d"
      },
      "execution_count": 310,
      "outputs": [
        {
          "output_type": "execute_result",
          "data": {
            "text/plain": [
              "False"
            ]
          },
          "metadata": {},
          "execution_count": 310
        }
      ]
    },
    {
      "cell_type": "code",
      "source": [
        "1 == 1"
      ],
      "metadata": {
        "colab": {
          "base_uri": "https://localhost:8080/"
        },
        "id": "JyyFGPiSbS9O",
        "outputId": "a4e9ef6f-9840-4a58-cdd4-eebc7cb93f3a"
      },
      "execution_count": 311,
      "outputs": [
        {
          "output_type": "execute_result",
          "data": {
            "text/plain": [
              "True"
            ]
          },
          "metadata": {},
          "execution_count": 311
        }
      ]
    },
    {
      "cell_type": "code",
      "source": [
        "1 != 1"
      ],
      "metadata": {
        "colab": {
          "base_uri": "https://localhost:8080/"
        },
        "id": "iWf6EGw3bUZO",
        "outputId": "b2d6584d-173d-4641-85fe-177ae0b48cfc"
      },
      "execution_count": 312,
      "outputs": [
        {
          "output_type": "execute_result",
          "data": {
            "text/plain": [
              "False"
            ]
          },
          "metadata": {},
          "execution_count": 312
        }
      ]
    },
    {
      "cell_type": "code",
      "source": [
        "\"Jin\" == \"Jin Box\""
      ],
      "metadata": {
        "colab": {
          "base_uri": "https://localhost:8080/"
        },
        "id": "9kw9pQZabXxV",
        "outputId": "c6d0e5e1-2fd8-4044-ffb8-edb9d8aad5f0"
      },
      "execution_count": 313,
      "outputs": [
        {
          "output_type": "execute_result",
          "data": {
            "text/plain": [
              "False"
            ]
          },
          "metadata": {},
          "execution_count": 313
        }
      ]
    },
    {
      "cell_type": "code",
      "source": [
        "x = [\"Jin Box\", True, 100000]\n",
        "type(x)"
      ],
      "metadata": {
        "colab": {
          "base_uri": "https://localhost:8080/"
        },
        "id": "jTegD4oogEXZ",
        "outputId": "086eb933-10c3-44e4-b518-fe4adbaf14b5"
      },
      "execution_count": 314,
      "outputs": [
        {
          "output_type": "execute_result",
          "data": {
            "text/plain": [
              "list"
            ]
          },
          "metadata": {},
          "execution_count": 314
        }
      ]
    },
    {
      "cell_type": "code",
      "source": [
        "x.append([1.,2.,3.])"
      ],
      "metadata": {
        "id": "obcn7fQ1gOcv"
      },
      "execution_count": 315,
      "outputs": []
    },
    {
      "cell_type": "code",
      "source": [
        "x"
      ],
      "metadata": {
        "colab": {
          "base_uri": "https://localhost:8080/"
        },
        "id": "x3MF-d3PgTBj",
        "outputId": "5a07b9ad-2067-4f75-f89e-a4b2f2921684"
      },
      "execution_count": 316,
      "outputs": [
        {
          "output_type": "execute_result",
          "data": {
            "text/plain": [
              "['Jin Box', True, 100000, [1.0, 2.0, 3.0]]"
            ]
          },
          "metadata": {},
          "execution_count": 316
        }
      ]
    },
    {
      "cell_type": "code",
      "source": [
        "x.remove('Jin Box')"
      ],
      "metadata": {
        "id": "XGA_LW4DgiFe"
      },
      "execution_count": 317,
      "outputs": []
    },
    {
      "cell_type": "code",
      "source": [
        "x"
      ],
      "metadata": {
        "colab": {
          "base_uri": "https://localhost:8080/"
        },
        "id": "gX7HuFOKglWk",
        "outputId": "a8c3906f-711b-483a-c0e2-fb6588fb3a1f"
      },
      "execution_count": 318,
      "outputs": [
        {
          "output_type": "execute_result",
          "data": {
            "text/plain": [
              "[True, 100000, [1.0, 2.0, 3.0]]"
            ]
          },
          "metadata": {},
          "execution_count": 318
        }
      ]
    },
    {
      "cell_type": "code",
      "source": [
        "x"
      ],
      "metadata": {
        "colab": {
          "base_uri": "https://localhost:8080/"
        },
        "id": "5ES7Sw4thCm9",
        "outputId": "baa6be69-17e0-4197-df3d-1decd17142cf"
      },
      "execution_count": 319,
      "outputs": [
        {
          "output_type": "execute_result",
          "data": {
            "text/plain": [
              "[True, 100000, [1.0, 2.0, 3.0]]"
            ]
          },
          "metadata": {},
          "execution_count": 319
        }
      ]
    },
    {
      "cell_type": "code",
      "source": [
        "x[0]"
      ],
      "metadata": {
        "colab": {
          "base_uri": "https://localhost:8080/"
        },
        "id": "ZFZXkYHvhFb7",
        "outputId": "51f29bba-1193-416c-ca57-108ae14d9500"
      },
      "execution_count": 320,
      "outputs": [
        {
          "output_type": "execute_result",
          "data": {
            "text/plain": [
              "True"
            ]
          },
          "metadata": {},
          "execution_count": 320
        }
      ]
    },
    {
      "cell_type": "code",
      "source": [
        "x[0] = False"
      ],
      "metadata": {
        "id": "rGrTmkE_hIf2"
      },
      "execution_count": 321,
      "outputs": []
    },
    {
      "cell_type": "code",
      "source": [
        "x"
      ],
      "metadata": {
        "colab": {
          "base_uri": "https://localhost:8080/"
        },
        "id": "0xIHZaA1hOqm",
        "outputId": "7c0f5ee9-6e21-4455-8392-329435111ad9"
      },
      "execution_count": 322,
      "outputs": [
        {
          "output_type": "execute_result",
          "data": {
            "text/plain": [
              "[False, 100000, [1.0, 2.0, 3.0]]"
            ]
          },
          "metadata": {},
          "execution_count": 322
        }
      ]
    },
    {
      "cell_type": "code",
      "source": [
        "x = {\"Jin\", \"Bill\", \"Elon\", \"Elon\"}\n",
        "x"
      ],
      "metadata": {
        "colab": {
          "base_uri": "https://localhost:8080/"
        },
        "id": "Dk6AXYUihVzK",
        "outputId": "f3a996bd-482d-4887-a90a-5a6ff21492c0"
      },
      "execution_count": 323,
      "outputs": [
        {
          "output_type": "execute_result",
          "data": {
            "text/plain": [
              "{'Bill', 'Elon', 'Jin'}"
            ]
          },
          "metadata": {},
          "execution_count": 323
        }
      ]
    },
    {
      "cell_type": "code",
      "source": [
        "x.add(\"Sundar\")\n",
        "x"
      ],
      "metadata": {
        "colab": {
          "base_uri": "https://localhost:8080/"
        },
        "id": "m1NKg9A1hdQ8",
        "outputId": "ce387b71-c7ee-4b99-8acf-9983a629e500"
      },
      "execution_count": 324,
      "outputs": [
        {
          "output_type": "execute_result",
          "data": {
            "text/plain": [
              "{'Bill', 'Elon', 'Jin', 'Sundar'}"
            ]
          },
          "metadata": {},
          "execution_count": 324
        }
      ]
    },
    {
      "cell_type": "code",
      "source": [
        "x.remove('Sundar')\n",
        "x"
      ],
      "metadata": {
        "colab": {
          "base_uri": "https://localhost:8080/"
        },
        "id": "YOtXmEehhiZ5",
        "outputId": "3c57a9b7-2e81-4499-d8fe-fb803bc0a467"
      },
      "execution_count": 325,
      "outputs": [
        {
          "output_type": "execute_result",
          "data": {
            "text/plain": [
              "{'Bill', 'Elon', 'Jin'}"
            ]
          },
          "metadata": {},
          "execution_count": 325
        }
      ]
    },
    {
      "cell_type": "code",
      "source": [
        "x= (1,2,3)\n",
        "type(x)"
      ],
      "metadata": {
        "colab": {
          "base_uri": "https://localhost:8080/"
        },
        "id": "BiPl7v-Xhrg8",
        "outputId": "33b9ef00-35b4-46c5-e22e-36ccd16abdc1"
      },
      "execution_count": 326,
      "outputs": [
        {
          "output_type": "execute_result",
          "data": {
            "text/plain": [
              "tuple"
            ]
          },
          "metadata": {},
          "execution_count": 326
        }
      ]
    },
    {
      "cell_type": "code",
      "source": [
        "x=(1)\n",
        "type(x)"
      ],
      "metadata": {
        "colab": {
          "base_uri": "https://localhost:8080/"
        },
        "id": "Xktt1Y9rhwA6",
        "outputId": "583e555c-cf39-40e0-9289-78610ab4a3ed"
      },
      "execution_count": 327,
      "outputs": [
        {
          "output_type": "execute_result",
          "data": {
            "text/plain": [
              "int"
            ]
          },
          "metadata": {},
          "execution_count": 327
        }
      ]
    },
    {
      "cell_type": "code",
      "source": [
        "x=(1,)\n",
        "type(x)"
      ],
      "metadata": {
        "colab": {
          "base_uri": "https://localhost:8080/"
        },
        "id": "3gefF-oDh4w7",
        "outputId": "e68fa9d2-d651-42d9-b66c-20841b17f87d"
      },
      "execution_count": 328,
      "outputs": [
        {
          "output_type": "execute_result",
          "data": {
            "text/plain": [
              "tuple"
            ]
          },
          "metadata": {},
          "execution_count": 328
        }
      ]
    },
    {
      "cell_type": "code",
      "source": [
        "x[0]"
      ],
      "metadata": {
        "colab": {
          "base_uri": "https://localhost:8080/"
        },
        "id": "wA3tyV5Fh95r",
        "outputId": "315b7f47-1e8f-4c28-f2d4-4a3fec370955"
      },
      "execution_count": 329,
      "outputs": [
        {
          "output_type": "execute_result",
          "data": {
            "text/plain": [
              "1"
            ]
          },
          "metadata": {},
          "execution_count": 329
        }
      ]
    },
    {
      "cell_type": "code",
      "source": [
        "x = {\"name\" : \"Jin\"}\n",
        "type(x)"
      ],
      "metadata": {
        "colab": {
          "base_uri": "https://localhost:8080/"
        },
        "id": "OxDNdix1iEYP",
        "outputId": "3a645cf4-0890-43c6-aecb-11c019e093a8"
      },
      "execution_count": 330,
      "outputs": [
        {
          "output_type": "execute_result",
          "data": {
            "text/plain": [
              "dict"
            ]
          },
          "metadata": {},
          "execution_count": 330
        }
      ]
    },
    {
      "cell_type": "code",
      "source": [
        "x[\"name\"]"
      ],
      "metadata": {
        "colab": {
          "base_uri": "https://localhost:8080/",
          "height": 35
        },
        "id": "o9tl6sEgiNDR",
        "outputId": "3918dc5b-09fb-47ec-e60c-a0f5cfdccac5"
      },
      "execution_count": 331,
      "outputs": [
        {
          "output_type": "execute_result",
          "data": {
            "text/plain": [
              "'Jin'"
            ],
            "application/vnd.google.colaboratory.intrinsic+json": {
              "type": "string"
            }
          },
          "metadata": {},
          "execution_count": 331
        }
      ]
    },
    {
      "cell_type": "code",
      "source": [
        "x[\"age\"] = [19, 20, 25, 27, 29, 32]"
      ],
      "metadata": {
        "id": "UohFSgrXieA2"
      },
      "execution_count": 332,
      "outputs": []
    },
    {
      "cell_type": "code",
      "source": [
        "x"
      ],
      "metadata": {
        "colab": {
          "base_uri": "https://localhost:8080/"
        },
        "id": "ZQfmv33KixHJ",
        "outputId": "b5edc499-f66e-4c3b-ed25-4d1e7ce2639d"
      },
      "execution_count": 333,
      "outputs": [
        {
          "output_type": "execute_result",
          "data": {
            "text/plain": [
              "{'name': 'Jin', 'age': [19, 20, 25, 27, 29, 32]}"
            ]
          },
          "metadata": {},
          "execution_count": 333
        }
      ]
    },
    {
      "cell_type": "code",
      "source": [
        "del x[\"age\"]"
      ],
      "metadata": {
        "id": "ViMRwMsgi5Zd"
      },
      "execution_count": 334,
      "outputs": []
    },
    {
      "cell_type": "code",
      "source": [
        "x"
      ],
      "metadata": {
        "colab": {
          "base_uri": "https://localhost:8080/"
        },
        "id": "R6L72Rv2jENx",
        "outputId": "e4c96910-11d6-4f39-813a-dea4d4c06941"
      },
      "execution_count": 335,
      "outputs": [
        {
          "output_type": "execute_result",
          "data": {
            "text/plain": [
              "{'name': 'Jin'}"
            ]
          },
          "metadata": {},
          "execution_count": 335
        }
      ]
    },
    {
      "cell_type": "code",
      "source": [
        "x[\"name\"] = [\"Jin\", \"Bill\", \"Elon\"]"
      ],
      "metadata": {
        "id": "8UeMrB_njGPg"
      },
      "execution_count": 336,
      "outputs": []
    },
    {
      "cell_type": "code",
      "source": [
        "x"
      ],
      "metadata": {
        "colab": {
          "base_uri": "https://localhost:8080/"
        },
        "id": "nxbiUggSjN_w",
        "outputId": "c333de33-99e9-4db0-ea63-d2c57ee70c2c"
      },
      "execution_count": 337,
      "outputs": [
        {
          "output_type": "execute_result",
          "data": {
            "text/plain": [
              "{'name': ['Jin', 'Bill', 'Elon']}"
            ]
          },
          "metadata": {},
          "execution_count": 337
        }
      ]
    },
    {
      "cell_type": "code",
      "source": [
        "user = {\n",
        "    \"name\" : \"Elon\",\n",
        "    \"like\" : True,\n",
        "    \"reported\": True\n",
        "}"
      ],
      "metadata": {
        "id": "l4leq4OEjOa7"
      },
      "execution_count": 338,
      "outputs": []
    },
    {
      "cell_type": "code",
      "source": [
        "if user[\"like\"]:\n",
        "  print(\"You already liked it!\")"
      ],
      "metadata": {
        "colab": {
          "base_uri": "https://localhost:8080/"
        },
        "id": "QBw7r9yekWqb",
        "outputId": "ee32f383-dbab-441e-b4f2-ce8ed7a004a1"
      },
      "execution_count": 339,
      "outputs": [
        {
          "output_type": "stream",
          "name": "stdout",
          "text": [
            "You already liked it!\n"
          ]
        }
      ]
    },
    {
      "cell_type": "code",
      "source": [
        "user[\"like\"] = False"
      ],
      "metadata": {
        "id": "H0MJhVGbke7s"
      },
      "execution_count": 340,
      "outputs": []
    },
    {
      "cell_type": "code",
      "source": [
        "if user[\"like\"]:\n",
        "  print(\"You already liked it!\")\n",
        "elif user[\"reported\"]:\n",
        "  print(\"Reported user cannot click like button.\")"
      ],
      "metadata": {
        "colab": {
          "base_uri": "https://localhost:8080/"
        },
        "id": "adTICvygkjh1",
        "outputId": "7a7cbd55-4164-4575-b5cb-dade7aa3f7d9"
      },
      "execution_count": 341,
      "outputs": [
        {
          "output_type": "stream",
          "name": "stdout",
          "text": [
            "Reported user cannot click like button.\n"
          ]
        }
      ]
    },
    {
      "cell_type": "code",
      "source": [
        "user[\"reported\"]=False"
      ],
      "metadata": {
        "id": "3dzkpM4Xk9dU"
      },
      "execution_count": 342,
      "outputs": []
    },
    {
      "cell_type": "code",
      "source": [
        "if user[\"like\"]:\n",
        "  print(\"You already liked it!\")\n",
        "elif user[\"reported\"]:\n",
        "  print(\"Reported user cannot clike like button.\")\n",
        "else:\n",
        "  print(\"Increase 1 like\")"
      ],
      "metadata": {
        "colab": {
          "base_uri": "https://localhost:8080/"
        },
        "id": "I7H96efQlESv",
        "outputId": "206f427a-4d31-41df-cfdd-bed526eeb8d2"
      },
      "execution_count": 343,
      "outputs": [
        {
          "output_type": "stream",
          "name": "stdout",
          "text": [
            "Increase 1 like\n"
          ]
        }
      ]
    },
    {
      "cell_type": "code",
      "source": [
        "user"
      ],
      "metadata": {
        "colab": {
          "base_uri": "https://localhost:8080/"
        },
        "id": "rC0sJIVAlSw_",
        "outputId": "00a1f1a1-17e0-4fc7-cca7-86636a11146a"
      },
      "execution_count": 344,
      "outputs": [
        {
          "output_type": "execute_result",
          "data": {
            "text/plain": [
              "{'name': 'Elon', 'like': False, 'reported': False}"
            ]
          },
          "metadata": {},
          "execution_count": 344
        }
      ]
    },
    {
      "cell_type": "code",
      "source": [
        "user[\"like\"] = 0"
      ],
      "metadata": {
        "id": "rDEGREAVlYT3"
      },
      "execution_count": 345,
      "outputs": []
    },
    {
      "cell_type": "code",
      "source": [
        "user[\"like\"] > 0"
      ],
      "metadata": {
        "colab": {
          "base_uri": "https://localhost:8080/"
        },
        "id": "c8MLJMZnltXe",
        "outputId": "5823203b-7b3a-4478-f540-aec24be33534"
      },
      "execution_count": 346,
      "outputs": [
        {
          "output_type": "execute_result",
          "data": {
            "text/plain": [
              "False"
            ]
          },
          "metadata": {},
          "execution_count": 346
        }
      ]
    },
    {
      "cell_type": "code",
      "source": [
        "if user[\"like\"] > 0:\n",
        "  print(\"You already liked it\")\n",
        "elif user[\"reported\"]:\n",
        "  print(\"Reported user cannot click like button.\")\n",
        "else:\n",
        "  print(\"Increase 1 like\")"
      ],
      "metadata": {
        "colab": {
          "base_uri": "https://localhost:8080/"
        },
        "id": "9xgmreMulwsN",
        "outputId": "18d3a357-8f05-4d9d-a68f-3213c0b8b675"
      },
      "execution_count": 347,
      "outputs": [
        {
          "output_type": "stream",
          "name": "stdout",
          "text": [
            "Increase 1 like\n"
          ]
        }
      ]
    },
    {
      "cell_type": "code",
      "source": [
        "def count_likes(user):\n",
        "  if user[\"like\"] > 0:\n",
        "    print(\"You already liked it!\")\n",
        "  elif user[\"reported\"]:\n",
        "    print(\"Reported user cannot clike like button.\")\n",
        "  else:\n",
        "    print(\"Increase 1 like \")\n",
        "    user[\"like\"] = user[\"like\"] + 1\n",
        "\n",
        "  return user"
      ],
      "metadata": {
        "id": "Qli5Iq_Uojak"
      },
      "execution_count": 348,
      "outputs": []
    },
    {
      "cell_type": "markdown",
      "source": [
        "For loop"
      ],
      "metadata": {
        "id": "I3GUfMRktCMB"
      }
    },
    {
      "cell_type": "code",
      "source": [
        "user1 = {\n",
        "    \"name\" : \"Elon\",\n",
        "    \"like\" : 1,\n",
        "    \"reported\" : True\n",
        "}\n",
        "\n",
        "user2 = {\n",
        "    \"name\" : \"Steve\",\n",
        "    \"like\" : 1,\n",
        "    \"reported\" : False\n",
        "}\n",
        "user3 = {\n",
        "    \"name\" : \"Bil\",\n",
        "    \"like\" : 2,\n",
        "    \"reported\" : False\n",
        "}\n",
        "user4 = {\n",
        "    \"name\" : \"Sundar\",\n",
        "    \"like\" : 0,\n",
        "    \"reported\" : False\n",
        "}\n",
        "\n",
        "subscribers = [user1, user2, user3, user4]"
      ],
      "metadata": {
        "id": "mgtA23kDtEHx"
      },
      "execution_count": 349,
      "outputs": []
    },
    {
      "cell_type": "code",
      "source": [
        "for user in subscribers:\n",
        "  print(\"Subscriber Name:\", user[\"name\"])"
      ],
      "metadata": {
        "colab": {
          "base_uri": "https://localhost:8080/"
        },
        "id": "e6lFgpEJtooA",
        "outputId": "7f444139-167e-4b6e-c1ce-00295691d802"
      },
      "execution_count": 350,
      "outputs": [
        {
          "output_type": "stream",
          "name": "stdout",
          "text": [
            "Subscriber Name: Elon\n",
            "Subscriber Name: Steve\n",
            "Subscriber Name: Bil\n",
            "Subscriber Name: Sundar\n"
          ]
        }
      ]
    },
    {
      "cell_type": "code",
      "source": [
        "for user in subscribers:\n",
        "\n",
        "  if user[\"reported\"]:\n",
        "      continue\n",
        "\n",
        "  print(\"Subscriber Name: \", user[\"name\"])"
      ],
      "metadata": {
        "colab": {
          "base_uri": "https://localhost:8080/"
        },
        "id": "GzW3fjo5umPf",
        "outputId": "76b37339-44b7-4a4c-a49d-abecc0211479"
      },
      "execution_count": 351,
      "outputs": [
        {
          "output_type": "stream",
          "name": "stdout",
          "text": [
            "Subscriber Name:  Steve\n",
            "Subscriber Name:  Bil\n",
            "Subscriber Name:  Sundar\n"
          ]
        }
      ]
    },
    {
      "cell_type": "markdown",
      "source": [
        "while loop"
      ],
      "metadata": {
        "id": "sF_kLU1yxVN0"
      }
    },
    {
      "cell_type": "code",
      "source": [
        "x = 0\n",
        "while x<5:\n",
        "    x=x+1\n",
        "    print(\"x: \", x)"
      ],
      "metadata": {
        "colab": {
          "base_uri": "https://localhost:8080/"
        },
        "id": "GWrd6Y0CxWYz",
        "outputId": "7567fc33-f76b-428b-f351-010a88051acb"
      },
      "execution_count": 352,
      "outputs": [
        {
          "output_type": "stream",
          "name": "stdout",
          "text": [
            "x:  1\n",
            "x:  2\n",
            "x:  3\n",
            "x:  4\n",
            "x:  5\n"
          ]
        }
      ]
    },
    {
      "cell_type": "code",
      "source": [
        "x = 0\n",
        "while True:\n",
        "    if x == 5:\n",
        "        break\n",
        "    x+=1\n",
        "    print(\"x: \", x)"
      ],
      "metadata": {
        "colab": {
          "base_uri": "https://localhost:8080/"
        },
        "id": "LkWOp7I0xeR5",
        "outputId": "9a065189-79b7-4f49-d1de-c686f62aa08b"
      },
      "execution_count": 353,
      "outputs": [
        {
          "output_type": "stream",
          "name": "stdout",
          "text": [
            "x:  1\n",
            "x:  2\n",
            "x:  3\n",
            "x:  4\n",
            "x:  5\n"
          ]
        }
      ]
    },
    {
      "cell_type": "code",
      "source": [
        "user_count = 0\n",
        "i = 0\n",
        "\n",
        "while user_count < 2:\n",
        "\n",
        "    if subscribers[i]['reported'] == False:\n",
        "      print(\"Subscriber Count: \", user_count, \"Name: \", subscribers[i][\"name\"])\n",
        "      user_count+=1\n",
        "\n",
        "    i+=1"
      ],
      "metadata": {
        "colab": {
          "base_uri": "https://localhost:8080/"
        },
        "id": "m7uxAzkmxp1Z",
        "outputId": "a31ebff3-e021-4904-bb81-1d6bda5955f6"
      },
      "execution_count": 354,
      "outputs": [
        {
          "output_type": "stream",
          "name": "stdout",
          "text": [
            "Subscriber Count:  0 Name:  Steve\n",
            "Subscriber Count:  1 Name:  Bil\n"
          ]
        }
      ]
    },
    {
      "cell_type": "markdown",
      "source": [
        "Function"
      ],
      "metadata": {
        "id": "-01UrynezTZr"
      }
    },
    {
      "cell_type": "code",
      "source": [
        "def briefing(user_names):\n",
        "\n",
        "  if len(user_names)>0:\n",
        "    for user in user_names:\n",
        "      print(user, \"hit like button!\")\n",
        "  else:\n",
        "    print(\"No one hit like button :(\")\n",
        "\n",
        "liked_users = [\"Elon\", \"Steve\"]\n",
        "briefing(liked_users)"
      ],
      "metadata": {
        "colab": {
          "base_uri": "https://localhost:8080/"
        },
        "id": "rpEELY1ozVDT",
        "outputId": "ec00b36b-7aad-4da7-ba9a-8582cb1721e8"
      },
      "execution_count": 355,
      "outputs": [
        {
          "output_type": "stream",
          "name": "stdout",
          "text": [
            "Elon hit like button!\n",
            "Steve hit like button!\n"
          ]
        }
      ]
    },
    {
      "cell_type": "code",
      "source": [
        "def briefing(user_names=[]):\n",
        "\n",
        "  if len(user_names)>0:\n",
        "    for user in user_names:\n",
        "      print(user, \"hit like button!\")\n",
        "  else:\n",
        "    print(\"No one hit like button :(\")\n",
        "\n",
        "briefing()"
      ],
      "metadata": {
        "colab": {
          "base_uri": "https://localhost:8080/"
        },
        "id": "pzT7Bw190T0N",
        "outputId": "1ef16159-c1b5-4ea2-d793-174be73613f8"
      },
      "execution_count": 356,
      "outputs": [
        {
          "output_type": "stream",
          "name": "stdout",
          "text": [
            "No one hit like button :(\n"
          ]
        }
      ]
    },
    {
      "cell_type": "code",
      "source": [
        "def briefing(user_like_histories, user_names=[]):\n",
        "\n",
        "  if len(user_names)>0:\n",
        "    for user in user_names:\n",
        "        print(user, \"hit like button!\")\n",
        "        user_like_histories[user]+=1\n",
        "        print(user, \"total likes: \", user_like_histories[user])\n",
        "  else:\n",
        "      print(\"No one hit like button :(\")\n",
        "\n",
        "user_like_histories = {\n",
        "      \"Elon\" : 1,\n",
        "      \"Steve\" : 5,\n",
        "      \"Bill\": 2,\n",
        "      \"Sundar\": 0\n",
        "}\n",
        "\n",
        "briefing(user_names=liked_users, user_like_histories = user_like_histories)"
      ],
      "metadata": {
        "colab": {
          "base_uri": "https://localhost:8080/"
        },
        "id": "l1UT230D02xB",
        "outputId": "9db1f40b-dc3c-466c-e539-1a68a6cf8238"
      },
      "execution_count": 357,
      "outputs": [
        {
          "output_type": "stream",
          "name": "stdout",
          "text": [
            "Elon hit like button!\n",
            "Elon total likes:  2\n",
            "Steve hit like button!\n",
            "Steve total likes:  6\n"
          ]
        }
      ]
    },
    {
      "cell_type": "code",
      "source": [
        "briefing(user_like_histories)"
      ],
      "metadata": {
        "colab": {
          "base_uri": "https://localhost:8080/"
        },
        "id": "Fn4F55cm2wMt",
        "outputId": "861fa698-33eb-4635-f8aa-a2d15b092114"
      },
      "execution_count": 358,
      "outputs": [
        {
          "output_type": "stream",
          "name": "stdout",
          "text": [
            "No one hit like button :(\n"
          ]
        }
      ]
    },
    {
      "cell_type": "code",
      "source": [
        "def count_likes(user_names=[]):\n",
        "    return len(user_names)"
      ],
      "metadata": {
        "id": "a0LziYwW26rJ"
      },
      "execution_count": 359,
      "outputs": []
    },
    {
      "cell_type": "code",
      "source": [
        "counts = count_likes(liked_users)"
      ],
      "metadata": {
        "id": "H51w4iNg3BRZ"
      },
      "execution_count": 360,
      "outputs": []
    },
    {
      "cell_type": "code",
      "source": [
        "print(counts)"
      ],
      "metadata": {
        "colab": {
          "base_uri": "https://localhost:8080/"
        },
        "id": "y3gKFYe43D8F",
        "outputId": "64b7ad04-9a38-4311-c536-a192d3ba2c2e"
      },
      "execution_count": 361,
      "outputs": [
        {
          "output_type": "stream",
          "name": "stdout",
          "text": [
            "2\n"
          ]
        }
      ]
    },
    {
      "cell_type": "code",
      "source": [
        "counts"
      ],
      "metadata": {
        "colab": {
          "base_uri": "https://localhost:8080/"
        },
        "id": "PneiNNy83Gzl",
        "outputId": "f3ea2ca2-5aa6-406a-a538-e32edfc955c0"
      },
      "execution_count": 362,
      "outputs": [
        {
          "output_type": "execute_result",
          "data": {
            "text/plain": [
              "2"
            ]
          },
          "metadata": {},
          "execution_count": 362
        }
      ]
    },
    {
      "cell_type": "code",
      "source": [],
      "metadata": {
        "id": "7FBv7RQP3HaB"
      },
      "execution_count": 362,
      "outputs": []
    },
    {
      "cell_type": "markdown",
      "source": [
        "Self"
      ],
      "metadata": {
        "id": "cWyqdeATDXiN"
      }
    },
    {
      "cell_type": "code",
      "source": [
        "class Dog:\n",
        "\n",
        "    def sniff(sef, sound:str):\n",
        "        print(sound * 5)"
      ],
      "metadata": {
        "id": "AZNy_xj1Dbck"
      },
      "execution_count": 363,
      "outputs": []
    },
    {
      "cell_type": "code",
      "source": [
        "maltese = Dog()"
      ],
      "metadata": {
        "id": "r5U8EATxDiGP"
      },
      "execution_count": 364,
      "outputs": []
    },
    {
      "cell_type": "code",
      "source": [
        "maltese.sniff(sound = \"킁\")"
      ],
      "metadata": {
        "colab": {
          "base_uri": "https://localhost:8080/"
        },
        "id": "dP0yfe3-Djl-",
        "outputId": "2726cb31-5009-450d-dd2b-f5a43d4022e8"
      },
      "execution_count": 365,
      "outputs": [
        {
          "output_type": "stream",
          "name": "stdout",
          "text": [
            "킁킁킁킁킁\n"
          ]
        }
      ]
    },
    {
      "cell_type": "code",
      "source": [
        "class Dog:\n",
        "\n",
        "    def __init__(self, name:str):\n",
        "      self.name = name\n",
        "\n",
        "    def sniff(self, sound:str):\n",
        "        print(f\"{self.name}가 이렇게 냄새를 맡는다: {sound * 5}\")"
      ],
      "metadata": {
        "id": "3lk5pgXCD0We"
      },
      "execution_count": 366,
      "outputs": []
    },
    {
      "cell_type": "code",
      "source": [
        "beagle = Dog(name= \"초코\")\n",
        "maltese = Dog(name= \"대왕\")"
      ],
      "metadata": {
        "id": "UADSyk6sE8t2"
      },
      "execution_count": 367,
      "outputs": []
    },
    {
      "cell_type": "code",
      "source": [
        "print(beagle.name)"
      ],
      "metadata": {
        "colab": {
          "base_uri": "https://localhost:8080/"
        },
        "id": "tkXZcrPrFFwy",
        "outputId": "a6f69265-d762-4152-ded5-6bc4d5781c3a"
      },
      "execution_count": 368,
      "outputs": [
        {
          "output_type": "stream",
          "name": "stdout",
          "text": [
            "초코\n"
          ]
        }
      ]
    },
    {
      "cell_type": "code",
      "source": [
        "print(maltese.name)"
      ],
      "metadata": {
        "colab": {
          "base_uri": "https://localhost:8080/"
        },
        "id": "9D8rB7Q_FHdR",
        "outputId": "db4fe4b9-14a3-49a3-f88b-f20026fc57ab"
      },
      "execution_count": 369,
      "outputs": [
        {
          "output_type": "stream",
          "name": "stdout",
          "text": [
            "대왕\n"
          ]
        }
      ]
    },
    {
      "cell_type": "code",
      "source": [
        "beagle.sniff(\"컹\")\n",
        "maltese.sniff(\"왕\")"
      ],
      "metadata": {
        "colab": {
          "base_uri": "https://localhost:8080/"
        },
        "id": "vsZCL3l-FJco",
        "outputId": "1a5899bf-64f6-4e94-f99b-dc751fc04d68"
      },
      "execution_count": 378,
      "outputs": [
        {
          "output_type": "stream",
          "name": "stdout",
          "text": [
            "초코가 이렇게 냄새를 맡는다: 컹컹컹컹컹\n",
            "대왕가 이렇게 냄새를 맡는다: 왕왕왕왕왕\n"
          ]
        }
      ]
    },
    {
      "cell_type": "code",
      "source": [
        "bread2color = {\n",
        "      \"Poodle\" : \"black\",\n",
        "      \"Maltese\" : \"white\"\n",
        "}\n",
        "\n",
        "class Dog:\n",
        "\n",
        "    def __init__(self, bread:str, name:str, weight: float):\n",
        "      self.bread = bread\n",
        "      self.color = bread2color[self.bread]\n",
        "      self.name = name\n",
        "      self.weight = weight\n",
        "      self.size = self. calculate_size(self.weight)\n",
        "\n",
        "    def calculate_size(self, weight:float):\n",
        "      if weight >= 4.0:\n",
        "          size = \"large\"\n",
        "      else:\n",
        "          size = \"small\"\n",
        "      return size\n",
        "\n",
        "    def eat(self):\n",
        "      amount = self.weight * 10\n",
        "      print(f\"{self.name}는 하루에 {amount}g의 사료를 먹습니다.\" )\n",
        "\n",
        "    def sniff(self, mood:str):\n",
        "      if mood == \"기쁨\":\n",
        "          sound = \"킁\"\n",
        "      elif mood == \"슬픔\" :\n",
        "          sound = \"낑\"\n",
        "      else:\n",
        "        print(f\"Please choose either '기쁨' or '슬픔' . Typed {mood}\")\n",
        "        return\n",
        "\n",
        "      print(f\"{self.name}가 {sound*3}하고 냄새를 맡습니다.\")\n",
        "\n",
        "    def change_name(self, new_name:str):\n",
        "        self.name = new_name\n",
        "        return self.name\n"
      ],
      "metadata": {
        "id": "87jXr4JfNNSq"
      },
      "execution_count": 384,
      "outputs": []
    },
    {
      "cell_type": "code",
      "source": [
        "class Maltese(Dog):\n",
        "    pass"
      ],
      "metadata": {
        "id": "fWhsRajySTjL"
      },
      "execution_count": 385,
      "outputs": []
    },
    {
      "cell_type": "code",
      "source": [
        "mydog = Maltese(\"Maltese\", \"대왕\", 3.6)"
      ],
      "metadata": {
        "id": "LSUiQeT-Sgm_"
      },
      "execution_count": 387,
      "outputs": []
    },
    {
      "cell_type": "code",
      "source": [
        "mydog.color"
      ],
      "metadata": {
        "colab": {
          "base_uri": "https://localhost:8080/",
          "height": 35
        },
        "id": "j8hZc2VASmL2",
        "outputId": "a8a37181-0b85-431e-d4d4-e23e23cca626"
      },
      "execution_count": 388,
      "outputs": [
        {
          "output_type": "execute_result",
          "data": {
            "text/plain": [
              "'white'"
            ],
            "application/vnd.google.colaboratory.intrinsic+json": {
              "type": "string"
            }
          },
          "metadata": {},
          "execution_count": 388
        }
      ]
    },
    {
      "cell_type": "code",
      "source": [
        "mydog.eat()"
      ],
      "metadata": {
        "colab": {
          "base_uri": "https://localhost:8080/"
        },
        "id": "UlvNpdTiSxMH",
        "outputId": "e0b375ac-8a7e-446f-aee3-d41d48c532b8"
      },
      "execution_count": 389,
      "outputs": [
        {
          "output_type": "stream",
          "name": "stdout",
          "text": [
            "대왕는 하루에 36.0g의 사료를 먹습니다.\n"
          ]
        }
      ]
    },
    {
      "cell_type": "code",
      "source": [
        "class Maltese(Dog):\n",
        "\n",
        "  def __init__(self, name:str, weight:float):\n",
        "      self.name = name\n",
        "      self.weight = weight"
      ],
      "metadata": {
        "id": "QAcHvDFCSymM"
      },
      "execution_count": 393,
      "outputs": []
    },
    {
      "cell_type": "code",
      "source": [
        "mydog = Maltese(\"대왕이\", 3.4)"
      ],
      "metadata": {
        "id": "v6U1onuRS8Ax"
      },
      "execution_count": 403,
      "outputs": []
    },
    {
      "cell_type": "code",
      "source": [
        "mydog.eat()"
      ],
      "metadata": {
        "colab": {
          "base_uri": "https://localhost:8080/"
        },
        "id": "wJXyy5qMTEof",
        "outputId": "d145efba-c1bb-46ee-ab3c-7d3ba23009e8"
      },
      "execution_count": 404,
      "outputs": [
        {
          "output_type": "stream",
          "name": "stdout",
          "text": [
            "대왕이는 하루에 34.0g의 사료를 먹습니다.\n"
          ]
        }
      ]
    },
    {
      "cell_type": "code",
      "source": [
        "mydog.sniff(\"기쁨\")"
      ],
      "metadata": {
        "colab": {
          "base_uri": "https://localhost:8080/"
        },
        "id": "jMwg4J-TTd2c",
        "outputId": "5f344cc7-b7dd-40b4-dbdd-c40a72976ba5"
      },
      "execution_count": 405,
      "outputs": [
        {
          "output_type": "stream",
          "name": "stdout",
          "text": [
            "대왕이가 킁킁킁하고 냄새를 맡습니다.\n"
          ]
        }
      ]
    },
    {
      "cell_type": "code",
      "source": [
        "class Maltese(Dog):\n",
        "\n",
        "    def __init__(self, name:str, weight:float):\n",
        "      self.name = name\n",
        "      self.weight = weight\n",
        "\n",
        "      super().__init__(\"Maltese\", self.name, self.weight)"
      ],
      "metadata": {
        "id": "-ISHqmEZThNH"
      },
      "execution_count": 399,
      "outputs": []
    },
    {
      "cell_type": "code",
      "source": [
        "mydog = Maltese(\"대왕\", 3.4)"
      ],
      "metadata": {
        "id": "LVASl5swT_nA"
      },
      "execution_count": 400,
      "outputs": []
    },
    {
      "cell_type": "code",
      "source": [
        "mydog.color"
      ],
      "metadata": {
        "colab": {
          "base_uri": "https://localhost:8080/",
          "height": 35
        },
        "id": "l_M8a2ScUCsU",
        "outputId": "45596425-56fc-43b7-f7ee-e0772109f5e4"
      },
      "execution_count": 401,
      "outputs": [
        {
          "output_type": "execute_result",
          "data": {
            "text/plain": [
              "'white'"
            ],
            "application/vnd.google.colaboratory.intrinsic+json": {
              "type": "string"
            }
          },
          "metadata": {},
          "execution_count": 401
        }
      ]
    },
    {
      "cell_type": "code",
      "source": [
        "mydog.size"
      ],
      "metadata": {
        "colab": {
          "base_uri": "https://localhost:8080/",
          "height": 35
        },
        "id": "1vby9gfdUEFc",
        "outputId": "26d22957-a62f-4cff-a5a5-afb1d6d1bdd1"
      },
      "execution_count": 402,
      "outputs": [
        {
          "output_type": "execute_result",
          "data": {
            "text/plain": [
              "'small'"
            ],
            "application/vnd.google.colaboratory.intrinsic+json": {
              "type": "string"
            }
          },
          "metadata": {},
          "execution_count": 402
        }
      ]
    },
    {
      "cell_type": "code",
      "source": [
        "from users import User"
      ],
      "metadata": {
        "colab": {
          "base_uri": "https://localhost:8080/",
          "height": 328
        },
        "id": "EjDwvQnugz0H",
        "outputId": "e26e5fbd-0ddd-448e-8cab-cff76fe4e1ce"
      },
      "execution_count": 411,
      "outputs": [
        {
          "output_type": "error",
          "ename": "ModuleNotFoundError",
          "evalue": "ignored",
          "traceback": [
            "\u001b[0;31m---------------------------------------------------------------------------\u001b[0m",
            "\u001b[0;31mModuleNotFoundError\u001b[0m                       Traceback (most recent call last)",
            "\u001b[0;32m<ipython-input-411-1c673ed698a9>\u001b[0m in \u001b[0;36m<cell line: 1>\u001b[0;34m()\u001b[0m\n\u001b[0;32m----> 1\u001b[0;31m \u001b[0;32mfrom\u001b[0m \u001b[0musers\u001b[0m \u001b[0;32mimport\u001b[0m \u001b[0mUser\u001b[0m\u001b[0;34m\u001b[0m\u001b[0;34m\u001b[0m\u001b[0m\n\u001b[0m",
            "\u001b[0;31mModuleNotFoundError\u001b[0m: No module named 'users'",
            "",
            "\u001b[0;31m---------------------------------------------------------------------------\u001b[0;32m\nNOTE: If your import is failing due to a missing package, you can\nmanually install dependencies using either !pip or !apt.\n\nTo view examples of installing some common dependencies, click the\n\"Open Examples\" button below.\n\u001b[0;31m---------------------------------------------------------------------------\u001b[0m\n"
          ],
          "errorDetails": {
            "actions": [
              {
                "action": "open_url",
                "actionText": "Open Examples",
                "url": "/notebooks/snippets/importing_libraries.ipynb"
              }
            ]
          }
        }
      ]
    },
    {
      "cell_type": "code",
      "source": [],
      "metadata": {
        "id": "Gl1INMDJg4eB"
      },
      "execution_count": null,
      "outputs": []
    }
  ]
}