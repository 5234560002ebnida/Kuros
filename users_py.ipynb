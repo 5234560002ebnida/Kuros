{
  "nbformat": 4,
  "nbformat_minor": 0,
  "metadata": {
    "colab": {
      "provenance": [],
      "authorship_tag": "ABX9TyOYOH9tpKiWqLLXMYP7+RGm",
      "include_colab_link": true
    },
    "kernelspec": {
      "name": "python3",
      "display_name": "Python 3"
    },
    "language_info": {
      "name": "python"
    }
  },
  "cells": [
    {
      "cell_type": "markdown",
      "metadata": {
        "id": "view-in-github",
        "colab_type": "text"
      },
      "source": [
        "<a href=\"https://colab.research.google.com/github/5234560002ebnida/nonfictioner/blob/main/users_py.ipynb\" target=\"_parent\"><img src=\"https://colab.research.google.com/assets/colab-badge.svg\" alt=\"Open In Colab\"/></a>"
      ]
    },
    {
      "cell_type": "code",
      "execution_count": 1,
      "metadata": {
        "id": "tlBtHL4jgpvy"
      },
      "outputs": [],
      "source": [
        "class User:\n",
        "\n",
        "    def __init(self,name):\n",
        "      self.name = name\n",
        "      self.likes = 0\n",
        "\n",
        "    def hit_like(self, video):\n",
        "      self.likes +=1\n",
        "      video.increase_like()\n",
        "\n",
        "      print(self.name, \"liked\", self.likes, \"videos.\")"
      ]
    }
  ]
}