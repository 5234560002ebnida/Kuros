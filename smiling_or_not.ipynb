{
  "nbformat": 4,
  "nbformat_minor": 0,
  "metadata": {
    "colab": {
      "provenance": [],
      "mount_file_id": "1ihxn2m5_MAIjjds-bwWCQPRqxGwvkdlS",
      "authorship_tag": "ABX9TyPzn8nVbGNmgOJZKxpm1RdB",
      "include_colab_link": true
    },
    "kernelspec": {
      "name": "python3",
      "display_name": "Python 3"
    },
    "language_info": {
      "name": "python"
    }
  },
  "cells": [
    {
      "cell_type": "markdown",
      "metadata": {
        "id": "view-in-github",
        "colab_type": "text"
      },
      "source": [
        "<a href=\"https://colab.research.google.com/github/5234560002ebnida/nonfictioner/blob/main/smiling_or_not.ipynb\" target=\"_parent\"><img src=\"https://colab.research.google.com/assets/colab-badge.svg\" alt=\"Open In Colab\"/></a>"
      ]
    },
    {
      "cell_type": "code",
      "execution_count": 6,
      "metadata": {
        "colab": {
          "base_uri": "https://localhost:8080/",
          "height": 0
        },
        "id": "hAdYUfU1G6oB",
        "outputId": "7505ce38-67e8-4701-d3e8-bcee2cb7714f"
      },
      "outputs": [
        {
          "output_type": "stream",
          "name": "stdout",
          "text": [
            "Mounted at /content/drive/\n"
          ]
        }
      ],
      "source": [
        "from google.colab import drive\n",
        "drive.mount('/content/drive/')\n",
        "\n",
        "#from google.colab import files # 데이터 불러오기\n",
        "#file_uploaded=files.upload()"
      ]
    },
    {
      "cell_type": "code",
      "source": [
        "pwd"
      ],
      "metadata": {
        "colab": {
          "base_uri": "https://localhost:8080/",
          "height": 35
        },
        "id": "PJn7gNRiJqtg",
        "outputId": "5f0ca3e7-f943-45b5-89a3-04b218e74a16"
      },
      "execution_count": 8,
      "outputs": [
        {
          "output_type": "execute_result",
          "data": {
            "text/plain": [
              "'/content'"
            ],
            "application/vnd.google.colaboratory.intrinsic+json": {
              "type": "string"
            }
          },
          "metadata": {},
          "execution_count": 8
        }
      ]
    },
    {
      "cell_type": "code",
      "source": [
        "ls"
      ],
      "metadata": {
        "colab": {
          "base_uri": "https://localhost:8080/",
          "height": 0
        },
        "id": "_BOiXJrOJq1U",
        "outputId": "30589bdd-030f-4f88-9675-2ab4ad9802e6"
      },
      "execution_count": 9,
      "outputs": [
        {
          "output_type": "stream",
          "name": "stdout",
          "text": [
            "\u001b[0m\u001b[01;34mdrive\u001b[0m/  \u001b[01;34msample_data\u001b[0m/\n"
          ]
        }
      ]
    },
    {
      "cell_type": "code",
      "source": [
        "cd/content/drive/MyDrive/cnn1"
      ],
      "metadata": {
        "colab": {
          "base_uri": "https://localhost:8080/",
          "height": 0
        },
        "id": "CK3WfBjhJ8hA",
        "outputId": "70cd93b3-a8f6-46a6-d465-d038052230d6"
      },
      "execution_count": 11,
      "outputs": [
        {
          "output_type": "stream",
          "name": "stdout",
          "text": [
            "/content/drive/MyDrive/cnn1\n"
          ]
        }
      ]
    },
    {
      "cell_type": "code",
      "source": [
        "ls"
      ],
      "metadata": {
        "colab": {
          "base_uri": "https://localhost:8080/",
          "height": 0
        },
        "id": "9TEqd91VKKtO",
        "outputId": "36817fd3-0703-4d66-c431-231e26653484"
      },
      "execution_count": 17,
      "outputs": [
        {
          "output_type": "stream",
          "name": "stdout",
          "text": [
            "\u001b[0m\u001b[01;34mnon_smile\u001b[0m/  \u001b[01;34msmile\u001b[0m/\n"
          ]
        }
      ]
    },
    {
      "cell_type": "code",
      "source": [
        "import numpy as np\n",
        "from skimage.color import rgb2lab, rgb2gray, lab2rgb\n",
        "from skimage.io import imread, imshow\n",
        "import matplotlib.pyplot as plt\n",
        "\n",
        "### 그림을 확인해 봅니다.\n",
        "\n",
        "image_sample= imread('non_smile/Jacqueline_Marris_0001.jpg')\n",
        "fig, ax = plt.subplots(figsize=(3, 5))\n",
        "imshow(image_sample, ax=ax)\n",
        "ax.set_title('non_smile_adult')\n",
        "#ax.axis('off');\n",
        ""
      ],
      "metadata": {
        "colab": {
          "base_uri": "https://localhost:8080/",
          "height": 343
        },
        "id": "d_hAiha1KZEt",
        "outputId": "7a13cda8-3da0-4f03-a5ab-b7de4dbc6f28"
      },
      "execution_count": 30,
      "outputs": [
        {
          "output_type": "execute_result",
          "data": {
            "text/plain": [
              "Text(0.5, 1.0, 'non_smile_adult')"
            ]
          },
          "metadata": {},
          "execution_count": 30
        },
        {
          "output_type": "display_data",
          "data": {
            "text/plain": [
              "<Figure size 300x500 with 1 Axes>"
            ],
            "image/png": "[encoded data removed]"
          },
          "metadata": {}
        }
      ]
    },
    {
      "cell_type": "code",
      "source": [
        "image_sample2= imread('smile/Jan_Bjoerklund_0001.jpg')\n",
        "fig, ax = plt.subplots(figsize=(3, 5))\n",
        "imshow(image_sample2, ax=ax)\n",
        "ax.set_title('smile_adult')\n",
        ""
      ],
      "metadata": {
        "colab": {
          "base_uri": "https://localhost:8080/",
          "height": 343
        },
        "id": "iE6yXMs0LoDo",
        "outputId": "74024ff4-2ce9-4614-a254-9f9b8bca19da"
      },
      "execution_count": 31,
      "outputs": [
        {
          "output_type": "execute_result",
          "data": {
            "text/plain": [
              "Text(0.5, 1.0, 'smile_adult')"
            ]
          },
          "metadata": {},
          "execution_count": 31
        },
        {
          "output_type": "display_data",
          "data": {
            "text/plain": [
              "<Figure size 300x500 with 1 Axes>"
            ],
            "image/png": "[encoded data removed]"
          },
          "metadata": {}
        }
      ]
    },
    {
      "cell_type": "code",
      "source": [
        "image_sample2.shape"
      ],
      "metadata": {
        "colab": {
          "base_uri": "https://localhost:8080/",
          "height": 0
        },
        "id": "R7szHlxdM5Q9",
        "outputId": "e9f37601-70d8-49ba-9bab-c4e2bb5df6f9"
      },
      "execution_count": 32,
      "outputs": [
        {
          "output_type": "execute_result",
          "data": {
            "text/plain": [
              "(64, 64, 3)"
            ]
          },
          "metadata": {},
          "execution_count": 32
        }
      ]
    },
    {
      "cell_type": "code",
      "source": [
        "cd /"
      ],
      "metadata": {
        "colab": {
          "base_uri": "https://localhost:8080/",
          "height": 0
        },
        "id": "Svbg1n6PM7j9",
        "outputId": "c9a81e19-787b-4e1d-a74f-2e3a54c58eba"
      },
      "execution_count": 33,
      "outputs": [
        {
          "output_type": "stream",
          "name": "stdout",
          "text": [
            "/\n"
          ]
        }
      ]
    },
    {
      "cell_type": "code",
      "source": [
        "# ImageDataGenerator의 flow_from_directory를 사용하여 directory로 데이터를 입력\n",
        "\n",
        "from tensorflow.keras.preprocessing.image import ImageDataGenerator\n",
        "\n",
        "from tensorflow.keras import Model\n",
        "from tensorflow.keras.models import Sequential\n",
        "from tensorflow.keras.layers import Dense, Dropout, Flatten, Conv2D, MaxPooling2D\n",
        "from keras.optimizers import Adam\n",
        "\n",
        "### ImageDataGenerator는 픽셀의 컬러 혹은 흑백값을 0에서 255를 0과 1사이로 바꾸어 줍니다. 이것은 필수입니다.\n",
        "### ImageDataGenerator는 여러가지 옵션으로 사진의 갯수를 늘릴 수 있습니다.\n",
        "\n",
        "\n",
        "### 아래는 train data에게 적용되는 옵션입니다.\n",
        "\n",
        "train_gen = ImageDataGenerator(\n",
        "        rescale=1./255,         # 픽셀 값을 0~1 범위로 변환 ## 이것은 사실상 필수 사항입니다.\n",
        "        rotation_range=40,      # 40도까지 회전\n",
        "        width_shift_range=0.2,  # 20%까지 좌우 이동\n",
        "        height_shift_range=0.2, # 20%까지 상하 이동\n",
        "        shear_range=0.2,        # 20%까지 기울임\n",
        "        zoom_range=0.2,         # 20%까지 확대\n",
        "        horizontal_flip=True,   # 좌우 뒤집기\n",
        "    )\n",
        "\n",
        "\n",
        "### 이제 /content/drive/MyDrive/data/train에 두개의 폴더 adults/  children/에서 train data로 쓸 그림을 가지고 옵니다.\n",
        "### 그리고 각각 폴더에서 온 것을 [1,0]과 [0,1]를 정답으로 해서 불러옵니다.\n",
        "\n",
        "train = train_gen.flow_from_directory(directory='../content/drive/MyDrive/cnn1',\n",
        "                                              target_size=(160, 185),  # 사용할 CNN 모델 입력 사이즈에 맞게 resize, 사이즈를 원하는 모양으로 조절이 가능해요.\n",
        "                                              color_mode='rgb',       # 컬러는 rgb, 흑백은 grayscale. 생략하면 컬러로 처리한다\n",
        "                                              class_mode='categorical', # class_mode='binary',\n",
        "                                              batch_size=20,\n",
        "                                              shuffle=True)\n",
        "\n",
        "\n",
        "#### 아래는 validation_data에 사용할 data를 쓰는 것이라서 오직 크기를 변경하는 것만 하고, 다른 선택사항은 사용하지 않습니다.\n",
        "\n",
        "valid_gen = ImageDataGenerator(\n",
        "        rescale=1./255\n",
        "    )\n",
        "\n",
        "\n",
        "test = valid_gen.flow_from_directory(directory='../content/drive/MyDrive/cnn1',\n",
        "                                              target_size=(160, 185),  # 사용할 CNN 모델 입력 사이즈에 맞게 resize\n",
        "                                              color_mode='rgb',       # 컬러는 rgb, 흑백은 grayscale. 생략하면 컬러로 처리한다\n",
        "                                              class_mode='binary', # class_mode='binary',\n",
        "                                              batch_size=3,\n",
        "                                              shuffle=True)\n",
        "\n",
        "\n",
        "# 컨볼루션 신경망의 설정\n",
        "model = Sequential()\n",
        "\n",
        "model.add(Conv2D(32, kernel_size=(3, 3), input_shape=(160, 185, 3), activation='relu'))\n",
        "model.add(Conv2D(64, (3, 3), activation='relu'))\n",
        "model.add(MaxPooling2D(pool_size=(2,2)))\n",
        "model.add(Flatten())\n",
        "model.add(Dense(128,  activation='relu'))\n",
        "model.add(Dropout(0.2))\n",
        "model.add(Dense(1, activation='sigmoid'))\n",
        "### [1,0]과 [0,1]이므로 위와 같이 했습니다.\n",
        "### 만약 위에서 class_mode='binary'설정했다면, Dense(1,activation='sigmoid' )가 되여야 하고, 아래 compile을 loss=' binary_crossentropy'해야 합니다.\n",
        "\n",
        "# 모델의 실행 옵션을 설정합니다.\n",
        "model.compile(loss='binary_crossentropy',\n",
        "              optimizer='Adam',\n",
        "              metrics=['accuracy'])\n",
        "\n",
        "model.fit_generator(train, validation_data = test, epochs=5 )"
      ],
      "metadata": {
        "colab": {
          "base_uri": "https://localhost:8080/",
          "height": 0
        },
        "id": "n5Fv14l-NARE",
        "outputId": "4911dbce-a9a0-4dcf-a1d8-001d7ca51319"
      },
      "execution_count": 1,
      "outputs": [
        {
          "output_type": "stream",
          "name": "stdout",
          "text": [
            "Found 1203 images belonging to 2 classes.\n",
            "Found 1203 images belonging to 2 classes.\n"
          ]
        },
        {
          "output_type": "stream",
          "name": "stderr",
          "text": [
            "<ipython-input-1-e1e86c19d0c2>:71: UserWarning: `Model.fit_generator` is deprecated and will be removed in a future version. Please use `Model.fit`, which supports generators.\n",
            "  model.fit_generator(train, validation_data = test, epochs=5 )\n"
          ]
        },
        {
          "output_type": "stream",
          "name": "stdout",
          "text": [
            "Epoch 1/5\n",
            "61/61 [==============================] - 207s 3s/step - loss: 1.9620 - accuracy: 0.5000 - val_loss: 0.6932 - val_accuracy: 0.4954\n",
            "Epoch 2/5\n",
            "61/61 [==============================] - 206s 3s/step - loss: 0.6931 - accuracy: 0.5000 - val_loss: 0.6932 - val_accuracy: 0.5029\n",
            "Epoch 3/5\n",
            "61/61 [==============================] - 204s 3s/step - loss: 0.6931 - accuracy: 0.5000 - val_loss: 0.6932 - val_accuracy: 0.5062\n",
            "Epoch 4/5\n",
            "61/61 [==============================] - 205s 3s/step - loss: 0.6931 - accuracy: 0.5000 - val_loss: 0.6932 - val_accuracy: 0.5071\n",
            "Epoch 5/5\n",
            "61/61 [==============================] - 205s 3s/step - loss: 0.6931 - accuracy: 0.5000 - val_loss: 0.6932 - val_accuracy: 0.5121\n"
          ]
        },
        {
          "output_type": "execute_result",
          "data": {
            "text/plain": [
              "<keras.src.callbacks.History at 0x798efae3d540>"
            ]
          },
          "metadata": {},
          "execution_count": 1
        }
      ]
    }
  ]
}