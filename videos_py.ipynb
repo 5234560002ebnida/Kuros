{
  "nbformat": 4,
  "nbformat_minor": 0,
  "metadata": {
    "colab": {
      "provenance": [],
      "authorship_tag": "ABX9TyP6mowbpeQWCufNvAihbwzx",
      "include_colab_link": true
    },
    "kernelspec": {
      "name": "python3",
      "display_name": "Python 3"
    },
    "language_info": {
      "name": "python"
    }
  },
  "cells": [
    {
      "cell_type": "markdown",
      "metadata": {
        "id": "view-in-github",
        "colab_type": "text"
      },
      "source": [
        "<a href=\"https://colab.research.google.com/github/5234560002ebnida/nonfictioner/blob/main/videos_py.ipynb\" target=\"_parent\"><img src=\"https://colab.research.google.com/assets/colab-badge.svg\" alt=\"Open In Colab\"/></a>"
      ]
    },
    {
      "cell_type": "code",
      "execution_count": 1,
      "metadata": {
        "id": "CItehrCfggpW"
      },
      "outputs": [],
      "source": [
        "class Video:\n",
        "\n",
        "    def __init__(self, title, description):\n",
        "      self.title = title\n",
        "      self. description = description\n",
        "      self.likes = 0\n",
        "\n",
        "    def increase_like(self):\n",
        "      self.likes += 1\n",
        "      print(self.title, \"likes:\", self.likes)"
      ]
    }
  ]
}